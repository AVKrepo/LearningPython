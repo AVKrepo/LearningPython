{
 "cells": [
  {
   "cell_type": "markdown",
   "metadata": {},
   "source": [
    "# Задание 5"
   ]
  },
  {
   "cell_type": "markdown",
   "metadata": {},
   "source": [
    "## 1. ContextTimer(0.3 балла)\n",
    "Напишите менеджер контекста, который позволит засекать время выполнения блока кода с помощью конструкции with и выводить это время на экран по выходу из блока. Пример использования:\n",
    "\n",
    "<code>\n",
    "with Timer ():\n",
    "    do_some_long_stuff()\n",
    "</code>\n",
    "\n",
    "Рекомендации: используйте стандартную библиотеку для работы со временем.\n",
    "\n",
    "Протестируйте себя."
   ]
  },
  {
   "cell_type": "code",
   "execution_count": 1,
   "metadata": {},
   "outputs": [],
   "source": [
    "import time\n",
    "from math import factorial"
   ]
  },
  {
   "cell_type": "code",
   "execution_count": 2,
   "metadata": {},
   "outputs": [],
   "source": [
    "class Timer:\n",
    "    def __enter__(self):\n",
    "        self.start = time.time()\n",
    "        \n",
    "    def __exit__(self, exc_type, exc_value, traceback):\n",
    "        self.finish = time.time()\n",
    "        print(\"Execution took\", self.finish - self.start, \"seconds\")"
   ]
  },
  {
   "cell_type": "code",
   "execution_count": 3,
   "metadata": {},
   "outputs": [
    {
     "name": "stdout",
     "output_type": "stream",
     "text": [
      "2432902008176640000\n",
      "Execution took 0.0005085468292236328 seconds\n"
     ]
    }
   ],
   "source": [
    "with Timer():\n",
    "    print(factorial(20))"
   ]
  },
  {
   "cell_type": "markdown",
   "metadata": {},
   "source": [
    "## 2.Transaction (0.4 балла)\n",
    "Вам необходимо написать менеджер контекстов, который позволит безопасно работать с транзакциями. Напишите класс Storage, в котором будут храниться какие-то данные в виде словаря. Эти данные должны быть закрытыми и их можно только читать через операцию []. У этого класса должен быть метод edit, который возвращает менеджер контекста, позволяющий редактировать исходный объект (опять же через []). При этом результаты редактирования записываются в исходный объект только если весь блок выполнился успешно. Пример использования:\n",
    "\n",
    "<code>\n",
    "s = Storage()\n",
    "with s.edit() as se :\n",
    "    se[\"a\"] = 1\n",
    "    may_be_an_exception_here()\n",
    "</code>\n",
    "\n",
    "Протестируйте себя."
   ]
  },
  {
   "cell_type": "code",
   "execution_count": 4,
   "metadata": {},
   "outputs": [],
   "source": [
    "class Storage:\n",
    "    class ContextManager:\n",
    "        def __init__(self):\n",
    "            self.data = dict()\n",
    "            \n",
    "        def __enter__(self):\n",
    "            self.new_data = self.data.copy()\n",
    "            return self\n",
    "        \n",
    "        def __exit__(self, exc_type, exc_value, traceback):\n",
    "            if exc_type:\n",
    "                self.new_data = None\n",
    "                print(\"Error occured, nothing changed.\")\n",
    "            else:\n",
    "                self.data = self.new_data\n",
    "                \n",
    "        def __getitem__(self, key):\n",
    "            return self.new_data[key]\n",
    "        \n",
    "        def __setitem__(self, key, value):\n",
    "            self.new_data[key] = value\n",
    "        \n",
    "        def __delitem__(self, key):\n",
    "            del self.new_data[key]\n",
    "        \n",
    "    def __init__(self):\n",
    "        self.context_manager = self.ContextManager()\n",
    "        \n",
    "    def edit(self):\n",
    "        return self.context_manager\n",
    "    \n",
    "    def __getitem__(self, key):\n",
    "        value = self.context_manager.data[key]\n",
    "        return value\n",
    "    \n",
    "    def __str__(self):\n",
    "        string = \"Storage: \"\n",
    "        string += self.context_manager.data.__str__()\n",
    "        return string"
   ]
  },
  {
   "cell_type": "markdown",
   "metadata": {},
   "source": [
    "Протестируем себя, разобрав 2 различных сценария: когда происходит исключение и когда все хорошо."
   ]
  },
  {
   "cell_type": "code",
   "execution_count": 5,
   "metadata": {},
   "outputs": [
    {
     "name": "stdout",
     "output_type": "stream",
     "text": [
      "Storage: {'a': 1, 'b': 42}\n",
      "Result of s[\"a\"]: 1\n",
      "Error occured, nothing changed.\n",
      "Storage: {'a': 1, 'b': 42}\n"
     ]
    }
   ],
   "source": [
    "s = Storage()\n",
    "with s.edit() as se :\n",
    "    se[\"a\"] = 1\n",
    "    se[\"b\"] = 42\n",
    "print(s)\n",
    "print('Result of s[\"a\"]:', s[\"a\"])\n",
    "# s[\"b\"] = 50 # it's forbidden\n",
    "try:\n",
    "    with s.edit() as se :\n",
    "        del se[\"a\"]\n",
    "        se[\"b\"] = 50\n",
    "        raise Exception()\n",
    "except:\n",
    "    pass\n",
    "print(s)"
   ]
  },
  {
   "cell_type": "markdown",
   "metadata": {},
   "source": [
    "## 3. Phone numbers (0.3)\n",
    "Напишите регулярное выражение для распознавания телефонных номеров и протестируйте себя. Номера, которые должны распознаваться:\n",
    "* 3-22-46\n",
    "* +71239513749\n",
    "* 71239513749\n",
    "* 1239513749\n",
    "* +7(123)-951-37-49\n",
    "* +7(123)9513749\n",
    "* +7-123-9513749\n",
    "* +7-123-951-37-49\n",
    "\n",
    "* 7(123)-951-37-49\n",
    "* 7(123)9513749\n",
    "* 7-123-9513749\n",
    "* 7-123-951-37-49\n",
    "\n",
    "* (123)-951-37-49\n",
    "* (123)9513749\n",
    "* 123-9513749\n",
    "* 123-951-37-49"
   ]
  },
  {
   "cell_type": "code",
   "execution_count": 6,
   "metadata": {},
   "outputs": [],
   "source": [
    "import re"
   ]
  },
  {
   "cell_type": "code",
   "execution_count": 7,
   "metadata": {},
   "outputs": [
    {
     "name": "stdout",
     "output_type": "stream",
     "text": [
      "['3-22-46', '+71239513749', '71239513749', '1239513749', '+7(123)-951-37-49', '+7(123)9513749', '+7-123-9513749', '+7-123-951-37-49', '7(123)-951-37-49', '7(123)9513749', '7-123-9513749', '7-123-951-37-49', '(123)-951-37-49', '(123)9513749', '123-9513749', '123-951-37-49']\n"
     ]
    }
   ],
   "source": [
    "numbers = \"\"\"\n",
    "          3-22-46\n",
    "          +71239513749\n",
    "          71239513749\n",
    "          1239513749\n",
    "          +7(123)-951-37-49\n",
    "          +7(123)9513749\n",
    "          +7-123-9513749\n",
    "          +7-123-951-37-49\n",
    "          7(123)-951-37-49\n",
    "          7(123)9513749\n",
    "          7-123-9513749\n",
    "          7-123-951-37-49\n",
    "          (123)-951-37-49\n",
    "          (123)9513749\n",
    "          123-9513749\n",
    "          123-951-37-49\n",
    "          \"\"\".split()\n",
    "prog = re.compile(r\"((\\+?7)?.?(\\d{3}).{,2}(\\d{3}))?.{,2}(\\d{2}).?(\\d{2})\")\n",
    "result = [prog.match(number).group(0) for number in numbers]\n",
    "assert(result == numbers)\n",
    "print(result)"
   ]
  },
  {
   "cell_type": "markdown",
   "metadata": {},
   "source": [
    "Как можно заметить, все номера верно определились."
   ]
  },
  {
   "cell_type": "code",
   "execution_count": null,
   "metadata": {},
   "outputs": [],
   "source": []
  }
 ],
 "metadata": {
  "kernelspec": {
   "display_name": "Python 3",
   "language": "python",
   "name": "python3"
  },
  "language_info": {
   "codemirror_mode": {
    "name": "ipython",
    "version": 3
   },
   "file_extension": ".py",
   "mimetype": "text/x-python",
   "name": "python",
   "nbconvert_exporter": "python",
   "pygments_lexer": "ipython3",
   "version": "3.6.4"
  }
 },
 "nbformat": 4,
 "nbformat_minor": 2
}
