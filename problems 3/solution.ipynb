{
 "cells": [
  {
   "cell_type": "markdown",
   "metadata": {},
   "source": [
    "# Задание 3"
   ]
  },
  {
   "cell_type": "markdown",
   "metadata": {},
   "source": [
    "#### CounterGetter (0.1 балл)\n",
    "Реализуйте класс CounterGetter, который на вход принимает произвольное количество именованых аргументов и считает количество обращений к полям и методам класса во всех экземплярах."
   ]
  },
  {
   "cell_type": "code",
   "execution_count": 38,
   "metadata": {},
   "outputs": [],
   "source": [
    "from collections import defaultdict\n",
    "\n",
    "class CounterGetter:\n",
    "    \n",
    "    calls = defaultdict(int)\n",
    "    \n",
    "    def __init__(self, **kwargs):\n",
    "        self.kwargs = kwargs\n",
    "        \n",
    "    def __getattribute__(self, name):\n",
    "        if name == \"calls\":\n",
    "            return object.__getattribute__(self, name)\n",
    "        else:\n",
    "            self.calls[name] += 1\n",
    "            return object.__getattribute__(self, name)"
   ]
  },
  {
   "cell_type": "code",
   "execution_count": 39,
   "metadata": {},
   "outputs": [
    {
     "name": "stdout",
     "output_type": "stream",
     "text": [
      "5\n",
      "defaultdict(<class 'int'>, {'fuctionA': 1, 'feature': 1, 'functionB': 2})\n"
     ]
    }
   ],
   "source": [
    "# Реализуем какие-нибудь примеры наследников данного класса (для проверки)\n",
    "class A(CounterGetter):\n",
    "    def __init__(self, feature):\n",
    "        self.feature = feature\n",
    "    \n",
    "    def fuctionA(self):\n",
    "        return self.feature\n",
    "    \n",
    "class B(CounterGetter):\n",
    "    def functionB(self, number):\n",
    "        return number\n",
    "    \n",
    "a = A(5)\n",
    "b = B()\n",
    "print(a.fuctionA() + b.functionB(1) * b.functionB(0))\n",
    "print(a.calls)"
   ]
  },
  {
   "cell_type": "markdown",
   "metadata": {},
   "source": [
    "#### Vector (0.4 балла)"
   ]
  },
  {
   "cell_type": "markdown",
   "metadata": {},
   "source": [
    "Реализуйте класс вектор, который должен обладать следующими свойствами:\n",
    "* Над экземплярами выполняются арифметические операции (+-\\*/). Операции могут выполняться как с числами, так и с векторами. Если второй операнд вектор, то верните их скалярное произведение, если число, выполните поэлементное действие.\n",
    "* Реализуйте доступ к элементам вектора по индексам:\n",
    "\n",
    "<code>vec = Vector(1, 2, 3)\n",
    "\n",
    "vec[0]</code>\n",
    "* Реализуйте умножение вектора на матрицу (Матрица задается двумерным списком).\n",
    "* Поддерживайте методы push_back, pop_back, insert.\n",
    "* Реализуйте поддержку функции len\n",
    "\n",
    "P. S. Запрещается использовать numpy и другие библиотеки по работе с векторами. Рекомендуется представлять элементы вектора как список."
   ]
  },
  {
   "cell_type": "code",
   "execution_count": 94,
   "metadata": {},
   "outputs": [],
   "source": [
    "import math\n",
    "\n",
    "class Vector:\n",
    "    def __init__(self, *args):\n",
    "        self.elements = [elem for elem in args]\n",
    "    \n",
    "    def __add__(self, other):\n",
    "        if isinstance(other, Vector):\n",
    "            if len(self) != len(other):\n",
    "                raise Exception(\"Can't sum Vectors with different lens\")\n",
    "            return Vector(*[elem1 + elem2 for elem1, elem2 in zip(self.elements, other.elements)])\n",
    "        else:\n",
    "            return Vector(*[elem + other for elem in self.elements])\n",
    "    \n",
    "    def __neg__(self):\n",
    "        return Vector(*[-elem for elem in self.elements])\n",
    "    \n",
    "    def __sub__(self, other):\n",
    "        return self + (-other)\n",
    "    \n",
    "    def __mul__(self, other):\n",
    "        if isinstance(other, Vector):\n",
    "            if len(self) != len(other):\n",
    "                raise Exception(\"Can't find scalar product of Vectors with different lens\")\n",
    "            return sum([elem1 * elem2 for elem1, elem2 in zip(self.elements, other.elements)])\n",
    "        else:\n",
    "            return Vector(*[elem * other for elem in self.elements])\n",
    "    \n",
    "    def __truediv__(self, other):\n",
    "        if isinstance(other, Vector):\n",
    "            raise Exception(\"Ration of two Vectors isn't supported\")\n",
    "        return Vector(*[elem / other for elem in self.elements])\n",
    "    \n",
    "    def __getitem__(self, key):\n",
    "        return self.elements[key]\n",
    "    \n",
    "    def matrix_mult(self, matrix):\n",
    "        \"\"\"\n",
    "        Left matrix multiplication.\n",
    "        \"\"\"\n",
    "        return Vector(*[Vector(*matrix[i]) * self for i in range(len(matrix))])\n",
    "    \n",
    "    def push_back(self, obj):\n",
    "        self.elements.append(obj)\n",
    "        \n",
    "    def pop_back(self):\n",
    "        return self.elements.pop()\n",
    "    \n",
    "    def insert(self, index, obj):\n",
    "        self.elements.insert(index, obj)\n",
    "        \n",
    "    def __len__(self):\n",
    "        return len(self.elements)\n",
    "    \n",
    "    def __str__(self):\n",
    "        result = \"Vector(\"\n",
    "        for i, elem in enumerate(self.elements):\n",
    "            if i == 0:\n",
    "                result += str(elem)\n",
    "            else:\n",
    "                result += \", \" + str(elem)\n",
    "        return result + \")\""
   ]
  },
  {
   "cell_type": "markdown",
   "metadata": {},
   "source": [
    "##### Примеры применения"
   ]
  },
  {
   "cell_type": "code",
   "execution_count": 95,
   "metadata": {},
   "outputs": [
    {
     "name": "stdout",
     "output_type": "stream",
     "text": [
      "Примеры +-*/\n",
      "Vector(2, 3, 4, 5)\n",
      "Vector(0, 1, 2, 3)\n",
      "Vector(11, 12, 13, 14)\n",
      "Vector(-1, 0, 1, 2)\n",
      "10\n",
      "Vector(0.5, 1.0, 1.5, 2.0)\n",
      "Пример []\n",
      "4\n",
      "Примеры матричного умножения\n",
      "Vector(1, 2, 3, 4)\n",
      "Vector(1, 2, 0, 1, 3)\n",
      "Примеры len, push, pop, insert\n",
      "2\n",
      "Vector(1, 2, 3)\n",
      "Vector(1, 2, 3, 4)\n",
      "4 Vector(1, 2, 3)\n",
      "Vector(1, 2, 2, 3)\n"
     ]
    }
   ],
   "source": [
    "a = Vector(1, 2, 3, 4)\n",
    "b = Vector(1, 1, 1, 1)\n",
    "c = Vector(1, 2)\n",
    "print(\"Примеры +-*/\")\n",
    "print(a + b)\n",
    "print(a - b)\n",
    "print(a + 10)\n",
    "print(a - 2)\n",
    "print(a * b)\n",
    "print(a / 2)\n",
    "print(\"Пример []\")\n",
    "print(a[3])\n",
    "print(\"Примеры матричного умножения\")\n",
    "matrix1 = [[1, 0, 0, 0],\n",
    "           [0, 1, 0, 0],\n",
    "           [0, 0, 1, 0],\n",
    "           [0, 0, 0, 1]]\n",
    "matrix2 = [[1, 0, 0, 0],\n",
    "           [0, 0, 2, 0],\n",
    "           [0, 0, 0, 0],\n",
    "           [0, 1, 0, 0],\n",
    "           [0, 0, 0, 3]]\n",
    "print(a.matrix_mult(matrix1))\n",
    "print(b.matrix_mult(matrix2))\n",
    "print(\"Примеры len, push, pop, insert\")\n",
    "print(len(c))\n",
    "c.push_back(3)\n",
    "print(c)\n",
    "c.push_back(4)\n",
    "print(c)\n",
    "print(c.pop_back(), c)\n",
    "c.insert(1, 2)\n",
    "print(c)"
   ]
  },
  {
   "cell_type": "markdown",
   "metadata": {},
   "source": [
    "#### Table (0.5 баллов)"
   ]
  },
  {
   "cell_type": "markdown",
   "metadata": {},
   "source": [
    "Реализуйте класс для работы с таблицами. Класс должен обладать следующей функциональностью:\n",
    "\n",
    "* Таблица может задаваться как двумерным списком, так и читаться из файла. Если читается из файла, то должен быть указан разделитель.\n",
    "\n",
    "* Обладать возможностью задания названия колонок (по номеру, если не задано). Если читается из файла и задан параметр наличия именованных колонок, то первая строчка файла отвечает за названия колонок.\n",
    "\n",
    "* Реализуйте доступ к колонкам по названю и по индекс:\n",
    "\n",
    "<code>t = Table()\n",
    "\n",
    "t[\"index\"]</code>\n",
    "\n",
    "* Реализуйте функции head и tail, которые показывают заданное число строк с начала и с конца соответственно.\n",
    "* Реадизуйте методы unique и count, которые выводят все уникальные элементы для таблицы или для заданного столбца:\n",
    "\n",
    "<code>\n",
    "t[\"sex\"].unique()\n",
    "\n",
    "t.unique() </code>"
   ]
  },
  {
   "cell_type": "code",
   "execution_count": 182,
   "metadata": {},
   "outputs": [],
   "source": [
    "class Table:\n",
    "    def __init__(self, lst=None, file_path=None, sep=' ', header=False, names=None):\n",
    "        self.table = None\n",
    "        self.columns = names\n",
    "        if lst:\n",
    "            self.table = lst\n",
    "        elif file_path:\n",
    "            with open(file_path, 'r') as file:\n",
    "                self.table = []\n",
    "                for i, line in enumerate(file):\n",
    "                    if header and i == 0:\n",
    "                        self.columns = line.strip().split(sep)\n",
    "                    else:\n",
    "                        self.table.append(line.strip().split(sep))\n",
    "        self.__check_validity()\n",
    "            \n",
    "    def __check_validity(self):\n",
    "        if not self.table:\n",
    "            raise Exception(\"Table can't be empty\")\n",
    "        if not self.columns:\n",
    "            self.columns = range(len(self.table[0]))\n",
    "        for i in range(len(self.table)):\n",
    "            if len(self.table[i]) != len(self.columns):\n",
    "                raise Exception(\"Table is not valid\")\n",
    "    \n",
    "    class Series(list):\n",
    "        def unique(self):\n",
    "            return list(set(self))\n",
    "        \n",
    "    def __getitem__(self, key):\n",
    "        number = key\n",
    "        if type(key) == str:\n",
    "            number = self.columns.index(key)\n",
    "        return self.Series([self.table[i][number] for i in range(len(self.table))])\n",
    "    \n",
    "    def head(self, count=5):\n",
    "        row_format = \"{:>10}\" * len(self.columns)\n",
    "        quantity = min(count, len(self[0]))\n",
    "        print(\"First {} rows of table:\".format(quantity))\n",
    "        print(row_format.format(*self.columns))\n",
    "        print(row_format.format(*[\"-\" * 10 for i in range(len(self.columns))]))\n",
    "        for i in range(quantity):\n",
    "            print(row_format.format(*self.table[i]))\n",
    "            \n",
    "    def tail(self, count=5):\n",
    "        row_format = \"{:>10}\" * len(self.columns)\n",
    "        quantity = min(count, len(self[0]))\n",
    "        print(\"Last {} rows of table:\".format(quantity))\n",
    "        print(row_format.format(*self.columns))\n",
    "        print(row_format.format(*[\"-\" * 10 for i in range(len(self.columns))]))\n",
    "        for i in range(quantity):\n",
    "            print(row_format.format(*self.table[-quantity + i]))\n",
    "            \n",
    "    def unique(self):\n",
    "        result = set()\n",
    "        for i in range(len(self.columns)):\n",
    "            result |= set(self[i])\n",
    "        return list(result)\n",
    "    \n",
    "    def count(self, obj):\n",
    "        result = 0\n",
    "        for i in range(len(self.columns)):\n",
    "            result += self[i].count(obj)\n",
    "        return result"
   ]
  },
  {
   "cell_type": "markdown",
   "metadata": {},
   "source": [
    "##### Примеры применения"
   ]
  },
  {
   "cell_type": "code",
   "execution_count": 183,
   "metadata": {},
   "outputs": [
    {
     "name": "stdout",
     "output_type": "stream",
     "text": [
      "First 5 rows of table:\n",
      "   column1   column2   column3   column4\n",
      "----------------------------------------\n",
      "       1.1       1.2       1.3       1.4\n",
      "       2.1       2.2       2.3       2.4\n",
      "       3.1       3.2       3.3       3.4\n",
      "       4.1       4.2       4.3       4.4\n",
      "       5.1       5.2       5.3       5.4\n",
      "Last 6 rows of table:\n",
      "         a         b         c         d\n",
      "----------------------------------------\n",
      "       5.1       5.2       5.3       5.4\n",
      "         1         1         1         1\n",
      "         1         1         1         1\n",
      "         1         1         1         1\n",
      "       6.1       6.2       6.3       6.4\n",
      "       7.1       7.2       7.3       7.4\n",
      "['1.2', '2.2', '3.2', '4.2', '5.2', '1', '1', '1', '6.2', '7.2']\n",
      "True\n",
      "['6.2', '3.2', '7.2', '2.2', '5.2', '1', '4.2', '1.2']\n",
      "3\n",
      "12\n",
      "['6.2', '2.1', '6.1', '2.4', '3.3', '7.3', '4.2', '1.1', '4.3', '5.1', '7.1', '5.4', '1.4', '7.2', '3.2', '2.2', '5.2', '7.4', '3.1', '3.4', '1.3', '2.3', '6.4', '1', '4.4', '6.3', '5.3', '1.2', '4.1']\n"
     ]
    }
   ],
   "source": [
    "t = Table(file_path=\"input.txt\", header=True)\n",
    "t.head()\n",
    "another_table = Table(lst=t.table, names=[\"a\", \"b\", \"c\", \"d\"])\n",
    "another_table.tail(6)\n",
    "print(t[\"column2\"])\n",
    "print(t[\"column2\"] == t[1])\n",
    "print(t[\"column2\"].unique())\n",
    "print(t[\"column2\"].count('1'))\n",
    "print(t.count('1'))\n",
    "print(t.unique())"
   ]
  },
  {
   "cell_type": "code",
   "execution_count": null,
   "metadata": {},
   "outputs": [],
   "source": []
  }
 ],
 "metadata": {
  "kernelspec": {
   "display_name": "Python 3",
   "language": "python",
   "name": "python3"
  },
  "language_info": {
   "codemirror_mode": {
    "name": "ipython",
    "version": 3
   },
   "file_extension": ".py",
   "mimetype": "text/x-python",
   "name": "python",
   "nbconvert_exporter": "python",
   "pygments_lexer": "ipython3",
   "version": "3.6.4"
  }
 },
 "nbformat": 4,
 "nbformat_minor": 2
}
