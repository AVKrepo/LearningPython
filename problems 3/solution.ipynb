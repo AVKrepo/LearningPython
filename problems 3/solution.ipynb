{
 "cells": [
  {
   "cell_type": "markdown",
   "metadata": {},
   "source": [
    "# Задание 3"
   ]
  },
  {
   "cell_type": "markdown",
   "metadata": {},
   "source": [
    "#### CounterGetter (0.1 балл)\n",
    "Реализуйте класс CounterGetter, который на вход принимает произвольное количество именованых аргументов и считает количество обращений к полям и методам класса во всех экземплярах."
   ]
  },
  {
   "cell_type": "code",
   "execution_count": 38,
   "metadata": {},
   "outputs": [],
   "source": [
    "from collections import defaultdict\n",
    "\n",
    "class CounterGetter:\n",
    "    \n",
    "    calls = defaultdict(int)\n",
    "    \n",
    "    def __init__(self, **kwargs):\n",
    "        self.kwargs = kwargs\n",
    "        \n",
    "    def __getattribute__(self, name):\n",
    "        if name == \"calls\":\n",
    "            return object.__getattribute__(self, name)\n",
    "        else:\n",
    "            self.calls[name] += 1\n",
    "            return object.__getattribute__(self, name)"
   ]
  },
  {
   "cell_type": "code",
   "execution_count": 39,
   "metadata": {},
   "outputs": [
    {
     "name": "stdout",
     "output_type": "stream",
     "text": [
      "5\n",
      "defaultdict(<class 'int'>, {'fuctionA': 1, 'feature': 1, 'functionB': 2})\n"
     ]
    }
   ],
   "source": [
    "# Реализуем какие-нибудь примеры наследников данного класса (для проверки)\n",
    "class A(CounterGetter):\n",
    "    def __init__(self, feature):\n",
    "        self.feature = feature\n",
    "    \n",
    "    def fuctionA(self):\n",
    "        return self.feature\n",
    "    \n",
    "class B(CounterGetter):\n",
    "    def functionB(self, number):\n",
    "        return number\n",
    "    \n",
    "a = A(5)\n",
    "b = B()\n",
    "print(a.fuctionA() + b.functionB(1) * b.functionB(0))\n",
    "print(a.calls)"
   ]
  },
  {
   "cell_type": "markdown",
   "metadata": {},
   "source": [
    "#### Vector (0.4 балла)"
   ]
  },
  {
   "cell_type": "markdown",
   "metadata": {},
   "source": [
    "Реализуйте класс вектор, который должен обладать следующими свойствами:\n",
    "* Над экземплярами выполняются арифметические операции (+-\\*/). Операции могут выполняться как с числами, так и с векторами. Если второй операнд вектор, то верните их скалярное произведение, если число, выполните поэлементное действие.\n",
    "* Реализуйте доступ к элементам вектора по индексам:\n",
    "\n",
    "<code>vec = Vector(1, 2, 3)\n",
    "\n",
    "vec[0]</code>\n",
    "* Реализуйте умножение вектора на матрицу (Матрица задается двумерным списком).\n",
    "* Поддерживайте методы push_back, pop_back, insert.\n",
    "* Реализуйте поддержку функции len\n",
    "\n",
    "P. S. Запрещается использовать numpy и другие библиотеки по работе с векторами. Рекомендуется представлять элементы вектора как список."
   ]
  },
  {
   "cell_type": "code",
   "execution_count": 81,
   "metadata": {},
   "outputs": [],
   "source": [
    "import math\n",
    "\n",
    "class Vector(object):\n",
    "    def __init__(self, *args):\n",
    "        self.elements = [elem for elem in args]\n",
    "    \n",
    "    def __add__(self, other):\n",
    "        if isinstance(other, Vector):\n",
    "            if len(self) != len(other):\n",
    "                raise Exception(\"Can't sum Vectors with different lens\")\n",
    "            return Vector(*[elem1 + elem2 for elem1, elem2 in zip(self.elements, other.elements)])\n",
    "        else:\n",
    "            return Vector(*[elem + other for elem in self.elements])\n",
    "    \n",
    "    def __neg__(self):\n",
    "        return Vector(*[-elem for elem in self.elements])\n",
    "    \n",
    "    def __sub__(self, other):\n",
    "        return self + (-other)\n",
    "    \n",
    "    def __mul__(self, other):\n",
    "        if isinstance(other, Vector):\n",
    "            if len(self) != len(other):\n",
    "                raise Exception(\"Can't find scalar product of Vectors with different lens\")\n",
    "            return sum([elem1 * elem2 for elem1, elem2 in zip(self.elements, other.elements)])\n",
    "        else:\n",
    "            return Vector(*[elem * other for elem in self.elements])\n",
    "    \n",
    "    def __truediv__(self, other):\n",
    "        if isinstance(other, Vector):\n",
    "            raise Exception(\"Ration of two Vectors isn't supported\")\n",
    "        return Vector(*[elem / other for elem in self.elements])\n",
    "    \n",
    "    def __getitem__(self, key):\n",
    "        return self.elements[key]\n",
    "    \n",
    "    def matrix_mult(self, matrix):\n",
    "        \"\"\"\n",
    "        Left matrix multiplication.\n",
    "        \"\"\"\n",
    "        return Vector(*[Vector(*matrix[i]) * self for i in range(len(matrix))])\n",
    "    \n",
    "    def push_back(self, obj):\n",
    "        self.elements.append(obj)\n",
    "        \n",
    "    def pop_back(self):\n",
    "        return self.elements.pop()\n",
    "    \n",
    "    def insert(self, index, obj):\n",
    "        self.elements.insert(index, obj)\n",
    "        \n",
    "    def __len__(self):\n",
    "        return len(self.elements)\n",
    "    \n",
    "    def __str__(self):\n",
    "        result = \"Vector(\"\n",
    "        for i, elem in enumerate(self.elements):\n",
    "            if i == 0:\n",
    "                result += str(elem)\n",
    "            else:\n",
    "                result += \", \" + str(elem)\n",
    "        return result + \")\""
   ]
  },
  {
   "cell_type": "markdown",
   "metadata": {},
   "source": [
    "##### Примеры применения"
   ]
  },
  {
   "cell_type": "code",
   "execution_count": 93,
   "metadata": {},
   "outputs": [
    {
     "name": "stdout",
     "output_type": "stream",
     "text": [
      "Примеры +-*/\n",
      "Vector(2, 3, 4, 5)\n",
      "Vector(0, 1, 2, 3)\n",
      "Vector(11, 12, 13, 14)\n",
      "Vector(-1, 0, 1, 2)\n",
      "10\n",
      "Vector(0.5, 1.0, 1.5, 2.0)\n",
      "Пример []\n",
      "4\n",
      "Примеры матричного умножения\n",
      "Vector(1, 2, 3, 4)\n",
      "Vector(1, 2, 0, 1, 3)\n",
      "Примеры len, push, pop, insert\n",
      "2\n",
      "Vector(1, 2, 3)\n",
      "Vector(1, 2, 3, 4)\n",
      "4 Vector(1, 2, 3)\n",
      "Vector(1, 2, 2, 3)\n"
     ]
    }
   ],
   "source": [
    "a = Vector(1, 2, 3, 4)\n",
    "b = Vector(1, 1, 1, 1)\n",
    "c = Vector(1, 2)\n",
    "print(\"Примеры +-*/\")\n",
    "print(a + b)\n",
    "print(a - b)\n",
    "print(a + 10)\n",
    "print(a - 2)\n",
    "print(a * b)\n",
    "print(a / 2)\n",
    "print(\"Пример []\")\n",
    "print(a[3])\n",
    "print(\"Примеры матричного умножения\")\n",
    "matrix1 = [[1, 0, 0, 0],\n",
    "           [0, 1, 0, 0],\n",
    "           [0, 0, 1, 0],\n",
    "           [0, 0, 0, 1]]\n",
    "matrix2 = [[1, 0, 0, 0],\n",
    "           [0, 0, 2, 0],\n",
    "           [0, 0, 0, 0],\n",
    "           [0, 1, 0, 0],\n",
    "           [0, 0, 0, 3]]\n",
    "print(a.matrix_mult(matrix1))\n",
    "print(b.matrix_mult(matrix2))\n",
    "print(\"Примеры len, push, pop, insert\")\n",
    "print(len(c))\n",
    "c.push_back(3)\n",
    "print(c)\n",
    "c.push_back(4)\n",
    "print(c)\n",
    "print(c.pop_back(), c)\n",
    "c.insert(1, 2)\n",
    "print(c)"
   ]
  },
  {
   "cell_type": "markdown",
   "metadata": {},
   "source": [
    "#### Table (0.5 баллов)"
   ]
  },
  {
   "cell_type": "markdown",
   "metadata": {},
   "source": [
    "Реализуйте класс для работы с таблицами. Класс должен обладать следующей функциональностью:\n",
    "\n",
    "* Таблица может задаваться как двумерным списком, так и читаться из файла. Если читается из файла, то должен быть указан разделитель.\n",
    "\n",
    "* Обладать возможностью задания названия колонок (по номеру, если не задано). Если читается из файла и задан параметр наличия именованных колонок, то первая строчка файла отвечает за названия колонок.\n",
    "\n",
    "* Реализуйте доступ к колонкам по названю и по индекс:\n",
    "\n",
    "<code>t = Table()\n",
    "\n",
    "t[\"index\"]</code>\n",
    "\n",
    "* Реализуйте функции head и tail, которые показывают заданное число строк с начала и с конца соответственно.\n",
    "* Реадизуйте методы unique и count, которые выводят все уникальные элементы для таблицы или для заданного столбца:\n",
    "\n",
    "<code>\n",
    "\n",
    "t[\"sex\"].unique()\n",
    "\n",
    "t.unique()\n",
    "\n",
    "</code>"
   ]
  },
  {
   "cell_type": "code",
   "execution_count": 37,
   "metadata": {
    "collapsed": true
   },
   "outputs": [],
   "source": [
    "<your code here>"
   ]
  }
 ],
 "metadata": {
  "kernelspec": {
   "display_name": "Python 3",
   "language": "python",
   "name": "python3"
  },
  "language_info": {
   "codemirror_mode": {
    "name": "ipython",
    "version": 3
   },
   "file_extension": ".py",
   "mimetype": "text/x-python",
   "name": "python",
   "nbconvert_exporter": "python",
   "pygments_lexer": "ipython3",
   "version": "3.6.4"
  }
 },
 "nbformat": 4,
 "nbformat_minor": 2
}
