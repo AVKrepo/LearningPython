{
 "cells": [
  {
   "cell_type": "markdown",
   "metadata": {},
   "source": [
    "# Задание 8"
   ]
  },
  {
   "cell_type": "markdown",
   "metadata": {},
   "source": [
    "## 1. Wiki philosophy (0.5 баллов)\n",
    "Существует шуточный «закон Философии» для статей Википедии: если переходить по\n",
    "первой нормальной ссылке в статье, то рано или поздно мы придем на статью о философии.\n",
    "Ваша задача заключается в том, чтобы проверить этот закон.\n",
    "Для этого нужно написать программу, которая получает на вход ссылку на статью Википедии, а потом циклически переходит по первой нормальной ссылке и повторяет эту операцию\n",
    "(до тех пор, пока не будет достигнута статья о философии, или ссылки не зациклятся). Нормальной ссылкой будем называть ссылку, которая находится в основном содержании статьи,\n",
    "не в инфобоксах и не в служебных блоках, написана синим цветом (красный соответствует\n",
    "несуществующей статье), не курсивом, не являтся сноской и не находится в скобках.\n",
    "\n",
    "<b>Результат</b> должен представлять из себя несколько статистик (проверьте не менее 100 стр., <i>больше - лучше</i>):\n",
    "* Описание алгоритма, как вы решали, стр. по философии или нет?\n",
    "* Количество начальных ссылок vs Количество конечных тем страниц (0 - стр. не по философии, 1 - по философии).\n",
    "* Гистограмма длин путей.\n",
    "* Соотношений успешных и неуспешных запросов.\n",
    "* Что еще можно тут придумать? :)\n",
    "\n",
    "<b>Обратите внимание</b>, что для проверки нормальности не обязательно разбирать таблицы стилей и\n",
    "проверять цвет и т.п., достаточно сделать, чтобы программа работала для текущей верстки\n",
    "википедии (например, можно использовать атрибут class у тегов).\n",
    "Для удобства проверки сделайте, чтобы последовательность переходов выводилась на\n",
    "экран.\n",
    "\n",
    "<b>Внимание.</b> Чтобы не создавать большую нагрузку на сервер Википедии, сделайте так,\n",
    "чтобы ваша программа делала не более 2-х запросов в секунду. Для этого воспользуйтесь\n",
    "функцией sleep из модуля time.\n",
    "\n",
    "<b>PS</b> Лучше выполнять не в ipython notebook, а прислать отчет в pdf и код."
   ]
  },
  {
   "cell_type": "code",
   "execution_count": 1,
   "metadata": {},
   "outputs": [],
   "source": [
    "import requests\n",
    "from bs4 import BeautifulSoup\n",
    "from tqdm import tqdm\n",
    "import numpy as np\n",
    "import matplotlib.pyplot as plt"
   ]
  },
  {
   "cell_type": "code",
   "execution_count": 2,
   "metadata": {},
   "outputs": [],
   "source": [
    "class WikiExplorer(object):\n",
    "    def __init__(self):\n",
    "        self.site = \"https://en.wikipedia.org\"\n",
    "        \n",
    "    def examine(self, request):\n",
    "        soup = BeautifulSoup(request.content, 'html.parser')\n",
    "        article_title = soup.body.find(\"h1\", {\"id\": \"firstHeading\"}).text\n",
    "\n",
    "        soup_body = soup.body \\\n",
    "            .find(\"div\", {\"id\": \"bodyContent\"}) \\\n",
    "            .find(\"div\", {\"id\": \"mw-content-text\"}) \\\n",
    "#             .find(\"div\", {\"class\": \"mw-parser-output\"})\n",
    "        for table in soup_body.find_all(\"table\"):\n",
    "            table.extract()\n",
    "\n",
    "        is_about_philosophy = False\n",
    "        if \"philosoph\" in soup_body.text:\n",
    "            is_about_philosophy = True\n",
    "\n",
    "        hrefs = soup_body.find_all(\"a\", href=True)\n",
    "        valid_links = [href[\"href\"] for href in hrefs \n",
    "                       if not href.name.endswith(\"(page does not exist)\") \n",
    "                       and not href[\"href\"].startswith(\"#\")]\n",
    "        first_link = valid_links[0]\n",
    "        return first_link, is_about_philosophy, article_title\n",
    "    \n",
    "    def explore(self, num_starts=100, max_depth=100):\n",
    "        num_true = 0\n",
    "        lens = []\n",
    "        for i in tqdm(range(num_starts)):\n",
    "            try:\n",
    "                first_link = \"/wiki/Special:Random\"\n",
    "                links = []\n",
    "                titles = []\n",
    "                is_about_philosophy = False\n",
    "                depth = 0\n",
    "                while depth < max_depth and not is_about_philosophy:\n",
    "                    links.append(first_link)\n",
    "                    url = self.site + first_link\n",
    "                    request = requests.get(url)\n",
    "                    if request.status_code != 200:\n",
    "    #                     print(\"Some error occured! (No valid links)\")\n",
    "                        break\n",
    "                    first_link, is_about_philosophy, article_title = self.examine(request)\n",
    "                    titles.append(article_title)\n",
    "                    if first_link in links:\n",
    "    #                     print(\"Cycle!\")\n",
    "                        break\n",
    "    #             print(links)\n",
    "                if is_about_philosophy:\n",
    "    #                 print('Success! Article \"{}\" is about philosophy!'.format(article_title))\n",
    "                    num_true += 1\n",
    "                    lens.append(len(links))\n",
    "            except Exception:\n",
    "                pass\n",
    "        print(\"Total {} articles out from {} is about philosophy\".format(num_true, num_starts))\n",
    "        \n",
    "        lens = np.array(lens)\n",
    "        plt.hist(lens, bins='auto')\n",
    "        plt.title(\"Histogram for lens of successful ways\")\n",
    "        plt.show()"
   ]
  },
  {
   "cell_type": "code",
   "execution_count": 3,
   "metadata": {
    "scrolled": false
   },
   "outputs": [
    {
     "name": "stderr",
     "output_type": "stream",
     "text": [
      "100%|██████████| 100/100 [04:59<00:00,  2.99s/it]"
     ]
    },
    {
     "name": "stdout",
     "output_type": "stream",
     "text": [
      "Total 32 articles out from 100 is about philosophy\n",
      "[ 2  5 10  2  2  9  2  3  9  2  2  8  2  2  5  2  2  4  2  2 10  2  4  2\n",
      "  4  7  3  5  3  2  2  2]\n"
     ]
    },
    {
     "name": "stderr",
     "output_type": "stream",
     "text": [
      "\n"
     ]
    },
    {
     "data": {
      "image/png": "[encoded data removed]",
      "text/plain": [
       "<Figure size 432x288 with 1 Axes>"
      ]
     },
     "metadata": {},
     "output_type": "display_data"
    }
   ],
   "source": [
    "explorer = WikiExplorer()\n",
    "explorer.explore()"
   ]
  },
  {
   "cell_type": "markdown",
   "metadata": {},
   "source": [
    "## 2. Books lib (0.5 баллов)\n",
    "Напишите сайт-библиотеку для книг. Он должен удовлетворять следующему функционалу:\n",
    "* Иметь одну главную страницу со списком авторов и ниже их произведений.\n",
    "* Можно кликнуть на автора и получить список его произведений на отдельной стр.\n",
    "* Можно кликнуть на книгу и получить текст книги на отдельной стр.\n",
    "* Оформление и улучшение функционала приветствуются. Но можно обойтись заголовками и ссылками.\n",
    "\n",
    "<b>Особенности реализации</b>:\n",
    "* Список книг и авторов заранее не задан и должен быть создан автоматически. (<i>как - понятно из следующего описания</i>)\n",
    "* Все книги хранятся по каталогам, которые имеют имя автора.\n",
    "* Каждая книга имеет название, которое и будет показано в ссылке.\n",
    "* Архив с книгами в папке с заданием (books.zip).\n",
    "* Плюсом будет, если вы \"замайните\" книги, вместо использования готового архива (+0.2 балла).\n",
    "* Использовать flask и bootstrap стили.\n",
    "\n",
    "<b>PS</b> Лучше выполнять не в ipython notebook, а прислать отчет в pdf и код."
   ]
  }
 ],
 "metadata": {
  "kernelspec": {
   "display_name": "web-env",
   "language": "python",
   "name": "web-env"
  },
  "language_info": {
   "codemirror_mode": {
    "name": "ipython",
    "version": 3
   },
   "file_extension": ".py",
   "mimetype": "text/x-python",
   "name": "python",
   "nbconvert_exporter": "python",
   "pygments_lexer": "ipython3",
   "version": "3.6.5"
  }
 },
 "nbformat": 4,
 "nbformat_minor": 2
}
