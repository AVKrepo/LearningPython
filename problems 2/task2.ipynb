{
 "cells": [
  {
   "cell_type": "markdown",
   "metadata": {},
   "source": [
    "# Решение задания №2. Base64"
   ]
  },
  {
   "cell_type": "code",
   "execution_count": 43,
   "metadata": {},
   "outputs": [],
   "source": [
    "import re\n",
    "\n",
    "class Base64Toolkit:\n",
    "    \n",
    "    def __init__(self):\n",
    "        self.coding_symbols = \"ABCDEFGHIJKLMNOPQRSTUVWXYZabcdefghijklmnopqrstuvwxyz0123456789+/\"\n",
    "        \n",
    "    def encode(self, string):\n",
    "        \"\"\"\n",
    "        Encode the string using Base64 and return the encoded bytes.\n",
    "        \"\"\"\n",
    "        string_bytes = bytearray(string, encoding=\"utf-8\")\n",
    "        encoded_bytes = \"\"\n",
    "        position = 0\n",
    "        while(position < len(string_bytes)):\n",
    "            triplet = string_bytes[position:position + 3]\n",
    "            # Transform triplet to binary representation\n",
    "            dex = 0\n",
    "            for i in range(len(triplet)):\n",
    "                dex |= ((triplet[i] & 0xff) << (8 * (2 - i)))\n",
    "                \n",
    "            for i in range(len(triplet) + 1):\n",
    "                encoded_bytes += self.coding_symbols[0x3f & (dex >> 6 * (3 - i))]\n",
    "                \n",
    "            for i in range(3 - len(triplet)):\n",
    "                encoded_bytes += \"=\"\n",
    "                \n",
    "            position += 3\n",
    "            \n",
    "        return encoded_bytes\n",
    "    \n",
    "    \n",
    "    def decode(self, encoded_bytes):\n",
    "        \"\"\"\n",
    "        Decode the Base64 encoded bytes and return the string.\n",
    "        \"\"\"\n",
    "        string_bytes = []\n",
    "        position = 0\n",
    "        while(position < len(encoded_bytes)):\n",
    "            symbols = encoded_bytes[position:position + 4]\n",
    "            dex = \"\"\n",
    "            for i in range(len(symbols)):\n",
    "                if(symbols[i] == \"=\"):\n",
    "                    dex += \"{0:06b}\".format(0)\n",
    "                else:\n",
    "                    index = self.coding_symbols.index(symbols[i])\n",
    "                    dex += \"{0:06b}\".format(index)\n",
    "            \n",
    "            for i in range(3):\n",
    "                string_bytes.append(dex[8 * i:8 * (i + 1)])\n",
    "            position += 4\n",
    "\n",
    "        for i in range(len(string_bytes)):\n",
    "            string_bytes[i] = ((int(string_bytes[i], 2)).to_bytes(1, byteorder='big'))\n",
    "        bts_arr = b''.join(string_bytes)\n",
    "        string = bts_arr.decode(\"utf-8\")\n",
    "        return string"
   ]
  },
  {
   "cell_type": "markdown",
   "metadata": {},
   "source": [
    "#### Сравним со стандартной реализацией"
   ]
  },
  {
   "cell_type": "code",
   "execution_count": 54,
   "metadata": {},
   "outputs": [
    {
     "name": "stdout",
     "output_type": "stream",
     "text": [
      "Bag End先生的Bilbo Baggins先生宣布，他不久將以特別的輝煌的聚會慶祝他的第二十一歲\n",
      "\n",
      "Bag End先生的Bilbo Baggins先生宣布，他不久將以特別的輝煌的聚會慶祝他的第二十一歲\n",
      "\n",
      "\u0000\u0000\u0000\u0000\u0000\u0000\u0000\u0000\u0000\u0000\u0000\u0000\u0000\u0000\u0000\u0000\u0000\u0000\u0000\u0000\u0000\u0000\u0000\u0000\u0000\u0000\u0000\u0000\u0000\u0000\u0000\u0000\u0000\u0000\u0000\u0000\u0000\u0000\u0000\u0000生日，霍比頓人的話語和興奮也很多。 ＃＃＃＃Bilbo非常富有，非常奇特，自從他的驚人的失踪和意想不\n",
      "\u0000\n",
      "\u0000\u0000\u0000\u0000\u0000\u0000\u0000\u0000\u0000\u0000\u0000\u0000\u0000\u0000\u0000\u0000\u0000\u0000\u0000\u0000\u0000\u0000\u0000\u0000\u0000\u0000\u0000\u0000\u0000\u0000\u0000\u0000\u0000\u0000\u0000\u0000\u0000\u0000\u0000\u0000生日，霍比頓人的話語和興奮也很多。 ＃＃＃＃Bilbo非常富有，非常奇特，自從他的驚人的失踪和意想不\n",
      "\n",
      "\u0000\u0000\u0000\u0000\u0000\u0000\u0000\u0000\u0000\u0000\u0000\u0000到的回歸以來，一直是希雷六十年的奇蹟。他從旅行中帶回來的財富現在已經成為一個地方的傳說，無論老民間說\n",
      "\u0000\u0000\n",
      "\u0000\u0000\u0000\u0000\u0000\u0000\u0000\u0000\u0000\u0000\u0000\u0000到的回歸以來，一直是希雷六十年的奇蹟。他從旅行中帶回來的財富現在已經成為一個地方的傳說，無論老民間說\n",
      "\n",
      "什麼，人們普遍相信，Bag End山充滿了寶藏的隧道。如果這還不夠名聲，那麼他也有長期的活力來驚嘆。\n",
      "\u0000\n",
      "什麼，人們普遍相信，Bag End山充滿了寶藏的隧道。如果這還不夠名聲，那麼他也有長期的活力來驚嘆。\n",
      "\n",
      "\u0000\u0000\u0000\u0000\u0000\u0000\u0000\u0000\u0000\u0000\u0000\u0000\u0000\u0000時間穿了，但似乎對Baggins先生影響不大。在九十年代，他和五十歲時一樣。在九十九歲的時候，他們開\n",
      "\u0000\u0000\n",
      "\u0000\u0000\u0000\u0000\u0000\u0000\u0000\u0000\u0000\u0000\u0000\u0000\u0000\u0000時間穿了，但似乎對Baggins先生影響不大。在九十年代，他和五十歲時一樣。在九十九歲的時候，他們開\n",
      "\n",
      "\u0000\u0000\u0000\u0000\u0000\u0000\u0000\u0000\u0000\u0000\u0000\u0000\u0000\u0000始把他稱得上是保存完好的，但是不會改變的。有一些人搖頭，認為這太好了，任何人都應該擁有（顯然）永久的\n",
      "\n",
      "\u0000\u0000\u0000\u0000\u0000\u0000\u0000\u0000\u0000\u0000\u0000\u0000\u0000\u0000始把他稱得上是保存完好的，但是不會改變的。有一些人搖頭，認為這太好了，任何人都應該擁有（顯然）永久的\n",
      "\n",
      "青年以及（著名地）無窮無盡的財富似乎是不公平的。他們說：“這將需要支付。” “這不是自然的，麻煩會來\n",
      "\u0000\n",
      "青年以及（著名地）無窮無盡的財富似乎是不公平的。他們說：“這將需要支付。” “這不是自然的，麻煩會來\n",
      "\n",
      "\u0000\u0000的！”＃＃但是到目前為止，麻煩沒有到來。正如巴金斯先生慷慨解囊，大多數人都願意赦免他的遺體和幸運。他\n",
      "\n",
      "\u0000\u0000的！”＃＃但是到目前為止，麻煩沒有到來。正如巴金斯先生慷慨解囊，大多數人都願意赦免他的遺體和幸運。他\n",
      "\n",
      "仍然與親屬（除了當然是薩克維爾 - 巴金斯）的訪問條件，他在貧窮和不重要的家庭的愛好中有許多忠實的崇\n",
      "\u0000\u0000\n",
      "仍然與親屬（除了當然是薩克維爾 - 巴金斯）的訪問條件，他在貧窮和不重要的家庭的愛好中有許多忠實的崇\n",
      "\n",
      "\u0000\u0000\u0000\u0000\u0000\u0000拜者。但他沒有親密的朋友，直到他的一些年輕的表親才開始長大。 ＃＃這些最老的，Bilbo的最愛，是年\n",
      "\u0000\u0000\n",
      "\u0000\u0000\u0000\u0000\u0000\u0000拜者。但他沒有親密的朋友，直到他的一些年輕的表親才開始長大。 ＃＃這些最老的，Bilbo的最愛，是年\n",
      "\n",
      "\u0000\u0000\u0000\u0000\u0000\u0000\u0000\u0000\u0000\u0000\u0000\u0000輕的Frodo Baggins。當比爾博九十九歲的時候，他把弗洛多當作他的繼承人，把他帶到了袋末，薩\n",
      "\u0000\n",
      "\u0000\u0000\u0000\u0000\u0000\u0000\u0000\u0000\u0000\u0000\u0000\u0000輕的Frodo Baggins。當比爾博九十九歲的時候，他把弗洛多當作他的繼承人，把他帶到了袋末，薩\n",
      "\n",
      "\u0000\u0000\u0000\u0000\u0000\u0000\u0000\u0000\u0000\u0000\u0000\u0000\u0000\u0000\u0000\u0000\u0000\u0000\u0000\u0000\u0000\u0000\u0000\u0000\u0000\u0000克維爾 - 巴金斯的希望終於被打破了。比爾博和佛羅多恰好有同樣的生日，9月22日。 “你最好過來住這\n",
      "\u0000\u0000\n",
      "\u0000\u0000\u0000\u0000\u0000\u0000\u0000\u0000\u0000\u0000\u0000\u0000\u0000\u0000\u0000\u0000\u0000\u0000\u0000\u0000\u0000\u0000\u0000\u0000\u0000\u0000克維爾 - 巴金斯的希望終於被打破了。比爾博和佛羅多恰好有同樣的生日，9月22日。 “你最好過來住這\n",
      "\n"
     ]
    }
   ],
   "source": [
    "import base64\n",
    "\n",
    "coder = Base64Toolkit()\n",
    "\n",
    "with open(\"2.tmp\", 'r') as file:\n",
    "    for i, line in enumerate(file):\n",
    "        encoded = coder.encode(line)\n",
    "        assert(encoded == base64.b64encode(line.encode('utf-8')).decode('utf-8'))\n",
    "        decoded = coder.decode(encoded)\n",
    "        print(decoded)\n",
    "        print(base64.b64decode(encoded.encode('utf-8')).decode('utf-8'))\n",
    "        if i > 10:\n",
    "            break"
   ]
  },
  {
   "cell_type": "code",
   "execution_count": null,
   "metadata": {},
   "outputs": [],
   "source": []
  },
  {
   "cell_type": "code",
   "execution_count": null,
   "metadata": {},
   "outputs": [],
   "source": []
  }
 ],
 "metadata": {
  "kernelspec": {
   "display_name": "ml-env",
   "language": "python",
   "name": "ml-env"
  },
  "language_info": {
   "codemirror_mode": {
    "name": "ipython",
    "version": 3
   },
   "file_extension": ".py",
   "mimetype": "text/x-python",
   "name": "python",
   "nbconvert_exporter": "python",
   "pygments_lexer": "ipython3",
   "version": "3.6.4"
  }
 },
 "nbformat": 4,
 "nbformat_minor": 2
}
